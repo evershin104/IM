{
 "cells": [
  {
   "cell_type": "code",
   "execution_count": 1,
   "id": "a7eda054",
   "metadata": {},
   "outputs": [],
   "source": [
    "import numpy as np\n",
    "import pandas as pd"
   ]
  },
  {
   "cell_type": "markdown",
   "id": "c136d0ff",
   "metadata": {},
   "source": [
    "Data reading"
   ]
  },
  {
   "cell_type": "code",
   "execution_count": 2,
   "id": "ec10f768",
   "metadata": {},
   "outputs": [],
   "source": [
    "data = pd.read_table(\"data.txt\", names=[\"Concentration\"])"
   ]
  },
  {
   "cell_type": "code",
   "execution_count": 3,
   "id": "8636ba1e",
   "metadata": {},
   "outputs": [],
   "source": [
    "y = np.asarray(data)"
   ]
  },
  {
   "cell_type": "markdown",
   "id": "a5c01c9f",
   "metadata": {},
   "source": [
    "Init. given values"
   ]
  },
  {
   "cell_type": "code",
   "execution_count": 4,
   "id": "197362df",
   "metadata": {},
   "outputs": [],
   "source": [
    "# Init. concentration\n",
    "co2_0 = 5 \n",
    "\n",
    "# Volume of room\n",
    "V = 150\n",
    "\n",
    "# CO2 generation intense \n",
    "g_s = 5\n",
    "\n",
    "# CO2 concentration outside\n",
    "co_a = 400\n",
    "\n",
    "# Std\n",
    "sigma = 5"
   ]
  },
  {
   "cell_type": "code",
   "execution_count": 5,
   "id": "b9e0fb4e",
   "metadata": {},
   "outputs": [],
   "source": [
    "# Likelihood func.\n",
    "def plaudability(lam, data=y, s=sigma):\n",
    "    return -len(data)/2 * np.log(2 * np.pi * s**2) -\\\n",
    "        1/(2 * s**2) * np.sum(\n",
    "        np.power(y - (co2_0 * V * lam + g_s + lam * co_a), 2)\n",
    "    )"
   ]
  },
  {
   "cell_type": "code",
   "execution_count": 6,
   "id": "5cc449a8",
   "metadata": {},
   "outputs": [],
   "source": [
    "# Prior distr. \n",
    "def prior(lam):\n",
    "    return np.log(1 / lam) if lam > 0 else -np.infty"
   ]
  },
  {
   "cell_type": "code",
   "execution_count": 7,
   "id": "c11852fb",
   "metadata": {},
   "outputs": [],
   "source": [
    "# Posterior func.\n",
    "def posterior(lam):\n",
    "    return plaudability(lam) + prior(lam)"
   ]
  },
  {
   "cell_type": "code",
   "execution_count": 8,
   "id": "865a5fe8",
   "metadata": {},
   "outputs": [],
   "source": [
    "# Generate new lambda with M_G algo\n",
    "def metropolis_hastings(curr_lam):\n",
    "    proposal_sd = .1\n",
    "    proposal_lam = np.random.normal(loc=curr_lam, scale=proposal_sd)\n",
    "    \n",
    "    log_acceptance_value = posterior(proposal_lam) - posterior(curr_lam)\n",
    "    \n",
    "    acceptance_p = min(1, np.exp(log_acceptance_value))\n",
    "    return proposal_lam if \\\n",
    "        np.random.uniform(0, 1, size=1) < acceptance_p else curr_lam "
   ]
  },
  {
   "cell_type": "code",
   "execution_count": 15,
   "id": "9ad70fca",
   "metadata": {},
   "outputs": [],
   "source": [
    "# Init M_G algo:\n",
    "N = 10000\n",
    "burn = 3000\n",
    "lam = .01\n",
    "\n",
    "lam_progress = []"
   ]
  },
  {
   "cell_type": "code",
   "execution_count": 16,
   "id": "09e6ba44",
   "metadata": {},
   "outputs": [
    {
     "name": "stderr",
     "output_type": "stream",
     "text": [
      "C:\\Users\\sunch\\AppData\\Local\\Temp\\ipykernel_5108\\3312297280.py:8: RuntimeWarning: overflow encountered in exp\n",
      "  acceptance_p = min(1, np.exp(log_acceptance_value))\n"
     ]
    }
   ],
   "source": [
    "for i in range(N):\n",
    "    lam_progress.append(metropolis_hastings(lam))\n",
    "\n",
    "lam_progress = lam_progress[burn:]"
   ]
  },
  {
   "cell_type": "code",
   "execution_count": 17,
   "id": "f0693a4f",
   "metadata": {},
   "outputs": [],
   "source": [
    "from matplotlib import pyplot as plt"
   ]
  },
  {
   "cell_type": "code",
   "execution_count": 20,
   "id": "0d52c95a",
   "metadata": {},
   "outputs": [
    {
     "data": {
      "text/plain": [
       "Text(0.5, 1.0, 'Lambda evaluation')"
      ]
     },
     "execution_count": 20,
     "metadata": {},
     "output_type": "execute_result"
    },
    {
     "data": {
      "image/png": "[encoded data removed]",
      "text/plain": [
       "<Figure size 640x480 with 1 Axes>"
      ]
     },
     "metadata": {},
     "output_type": "display_data"
    }
   ],
   "source": [
    "plt.hist(lam_progress, bins=40)\n",
    "plt.ylabel(\"Freq.\")\n",
    "plt.xlabel(\"Lambda\")\n",
    "plt.title(\"Lambda evaluation\")"
   ]
  },
  {
   "cell_type": "code",
   "execution_count": null,
   "id": "b3c5e631",
   "metadata": {},
   "outputs": [],
   "source": []
  }
 ],
 "metadata": {
  "kernelspec": {
   "display_name": "Python 3 (ipykernel)",
   "language": "python",
   "name": "python3"
  },
  "language_info": {
   "codemirror_mode": {
    "name": "ipython",
    "version": 3
   },
   "file_extension": ".py",
   "mimetype": "text/x-python",
   "name": "python",
   "nbconvert_exporter": "python",
   "pygments_lexer": "ipython3",
   "version": "3.9.16"
  }
 },
 "nbformat": 4,
 "nbformat_minor": 5
}

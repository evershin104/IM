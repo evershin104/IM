{
 "cells": [
  {
   "cell_type": "code",
   "execution_count": 6,
   "id": "6b342abd",
   "metadata": {},
   "outputs": [],
   "source": [
    "import pandas as pd\n",
    "import numpy as np"
   ]
  },
  {
   "cell_type": "code",
   "execution_count": 7,
   "id": "e2bc7b84",
   "metadata": {},
   "outputs": [],
   "source": [
    "optical_data = np.array([\n",
    "    [32, 165, .72, .01],\n",
    "    [23, 227, .72, .02],\n",
    "    [40, 246, .72, .02],\n",
    "    [23, 227, .72, .09],\n",
    "    [46, 253, .72, .06],\n",
    "    [51, 186, .8, 0]\n",
    "])"
   ]
  },
  {
   "cell_type": "code",
   "execution_count": 8,
   "id": "f7de2164",
   "metadata": {},
   "outputs": [],
   "source": [
    "optical_data_df = pd.DataFrame(data=optical_data,\n",
    "                               index=[\"Эпидермис\", \"Папиллярная дерма\", \"Поверхностное сосудистое сплетение\",\n",
    "                                      \"Ретикулярная дерма\", \"Глубокое сосудистое сплетение\", \n",
    "                                      \"Неоднородность\"],\n",
    "                               columns=[\"mu_a, cm^(-1)\", \"mu_s, cm^(-1)\", \"g\", \"d, cm\"])"
   ]
  },
  {
   "cell_type": "code",
   "execution_count": 9,
   "id": "677cee85",
   "metadata": {},
   "outputs": [
    {
     "data": {
      "text/html": [
       "<div>\n",
       "<style scoped>\n",
       "    .dataframe tbody tr th:only-of-type {\n",
       "        vertical-align: middle;\n",
       "    }\n",
       "\n",
       "    .dataframe tbody tr th {\n",
       "        vertical-align: top;\n",
       "    }\n",
       "\n",
       "    .dataframe thead th {\n",
       "        text-align: right;\n",
       "    }\n",
       "</style>\n",
       "<table border=\"1\" class=\"dataframe\">\n",
       "  <thead>\n",
       "    <tr style=\"text-align: right;\">\n",
       "      <th></th>\n",
       "      <th>mu_a, cm^(-1)</th>\n",
       "      <th>mu_s, cm^(-1)</th>\n",
       "      <th>g</th>\n",
       "      <th>d, cm</th>\n",
       "    </tr>\n",
       "  </thead>\n",
       "  <tbody>\n",
       "    <tr>\n",
       "      <th>Эпидермис</th>\n",
       "      <td>32.0</td>\n",
       "      <td>165.0</td>\n",
       "      <td>0.72</td>\n",
       "      <td>0.01</td>\n",
       "    </tr>\n",
       "    <tr>\n",
       "      <th>Папиллярная дерма</th>\n",
       "      <td>23.0</td>\n",
       "      <td>227.0</td>\n",
       "      <td>0.72</td>\n",
       "      <td>0.02</td>\n",
       "    </tr>\n",
       "    <tr>\n",
       "      <th>Поверхностное сосудистое сплетение</th>\n",
       "      <td>40.0</td>\n",
       "      <td>246.0</td>\n",
       "      <td>0.72</td>\n",
       "      <td>0.02</td>\n",
       "    </tr>\n",
       "    <tr>\n",
       "      <th>Ретикулярная дерма</th>\n",
       "      <td>23.0</td>\n",
       "      <td>227.0</td>\n",
       "      <td>0.72</td>\n",
       "      <td>0.09</td>\n",
       "    </tr>\n",
       "    <tr>\n",
       "      <th>Глубокое сосудистое сплетение</th>\n",
       "      <td>46.0</td>\n",
       "      <td>253.0</td>\n",
       "      <td>0.72</td>\n",
       "      <td>0.06</td>\n",
       "    </tr>\n",
       "    <tr>\n",
       "      <th>Неоднородность</th>\n",
       "      <td>51.0</td>\n",
       "      <td>186.0</td>\n",
       "      <td>0.80</td>\n",
       "      <td>0.00</td>\n",
       "    </tr>\n",
       "  </tbody>\n",
       "</table>\n",
       "</div>"
      ],
      "text/plain": [
       "                                    mu_a, cm^(-1)  mu_s, cm^(-1)     g  d, cm\n",
       "Эпидермис                                    32.0          165.0  0.72   0.01\n",
       "Папиллярная дерма                            23.0          227.0  0.72   0.02\n",
       "Поверхностное сосудистое сплетение           40.0          246.0  0.72   0.02\n",
       "Ретикулярная дерма                           23.0          227.0  0.72   0.09\n",
       "Глубокое сосудистое сплетение                46.0          253.0  0.72   0.06\n",
       "Неоднородность                               51.0          186.0  0.80   0.00"
      ]
     },
     "execution_count": 9,
     "metadata": {},
     "output_type": "execute_result"
    }
   ],
   "source": [
    "optical_data_df"
   ]
  },
  {
   "cell_type": "code",
   "execution_count": 10,
   "id": "95b3644d",
   "metadata": {},
   "outputs": [],
   "source": [
    "class Photon:\n",
    "    def __init__(self):\n",
    "        self.x = 0\n",
    "        self.y = 0\n",
    "        self.z = 0\n",
    "        \n",
    "        self.vx = 0\n",
    "        self.vy = 0\n",
    "        self.vz = 1\n",
    "        \n",
    "        self.W = 1\n",
    "        self.curr_layer = 0"
   ]
  },
  {
   "cell_type": "code",
   "execution_count": 14,
   "id": "774cf4bc",
   "metadata": {},
   "outputs": [],
   "source": [
    "# Generate N photons\n",
    "N = 100\n",
    "photons = np.array([Photon() for i in range(100)])\n",
    "# Num of steps\n",
    "n = 50 "
   ]
  },
  {
   "cell_type": "code",
   "execution_count": 26,
   "id": "3f819c51",
   "metadata": {},
   "outputs": [],
   "source": [
    "# Genetare absorbtion distr. for layers\n",
    "U = np.random.uniform(0, 1, size=(N, 6))"
   ]
  },
  {
   "cell_type": "code",
   "execution_count": 23,
   "id": "34b201b5",
   "metadata": {},
   "outputs": [],
   "source": [
    "# Calculate prob. of absorbtion for layer\n",
    "P_a = np.array(optical_data_df[\"mu_a, cm^(-1)\"]/(optical_data_df[\"mu_a, cm^(-1)\"] + optical_data_df[\"mu_s, cm^(-1)\"]))"
   ]
  },
  {
   "cell_type": "code",
   "execution_count": null,
   "id": "6a042bc8",
   "metadata": {},
   "outputs": [],
   "source": [
    "for i in photons:\n",
    "    "
   ]
  }
 ],
 "metadata": {
  "kernelspec": {
   "display_name": "Python 3 (ipykernel)",
   "language": "python",
   "name": "python3"
  },
  "language_info": {
   "codemirror_mode": {
    "name": "ipython",
    "version": 3
   },
   "file_extension": ".py",
   "mimetype": "text/x-python",
   "name": "python",
   "nbconvert_exporter": "python",
   "pygments_lexer": "ipython3",
   "version": "3.9.16"
  }
 },
 "nbformat": 4,
 "nbformat_minor": 5
}
